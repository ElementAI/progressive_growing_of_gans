{
 "cells": [
  {
   "cell_type": "markdown",
   "metadata": {},
   "source": [
    "# PGAN data"
   ]
  },
  {
   "cell_type": "code",
   "execution_count": null,
   "metadata": {},
   "outputs": [],
   "source": [
    "import pymongo\n",
    "from pymongo import MongoClient\n",
    "import gridfs\n",
    "import json\n",
    "from bson.binary import Binary\n",
    "import pickle\n",
    "import numpy as np\n",
    "from fuel.datasets.hdf5 import H5PYDataset\n",
    "from tqdm import tqdm\n",
    "from copy import deepcopy\n",
    "import imageio\n"
   ]
  },
  {
   "cell_type": "code",
   "execution_count": null,
   "metadata": {},
   "outputs": [],
   "source": [
    "_host_adress = 'mongo_m'\n",
    "_host_adress_p = 'mongo_p'\n",
    "_host_port = 27017\n",
    "_db_name = 'ssense_items'\n",
    "_items_collection = 'items'\n",
    "_db_photos = 'ssense_photo'\n",
    "_photos_collection = 'photo'"
   ]
  },
  {
   "cell_type": "code",
   "execution_count": null,
   "metadata": {},
   "outputs": [],
   "source": [
    "def get_itemsdb():\n",
    "    \"\"\"Utility function to retrieve the collection of models\n",
    "\n",
    "    Returns:\n",
    "        the collection of models\"\"\"\n",
    "    client = MongoClient(_host_adress, _host_port)\n",
    "    items = client[_db_name]\n",
    "    return items[_items_collection]\n",
    "\n",
    "\n",
    "def get_photosdb():\n",
    "    \"\"\"Utility function to retrieve the collection of models\n",
    "\n",
    "    Returns:\n",
    "        the collection of models\"\"\"\n",
    "    client = MongoClient(_host_adress_p, _host_port)\n",
    "    photos = client[_db_photos]\n",
    "    return gridfs.GridFS(photos)"
   ]
  },
  {
   "cell_type": "code",
   "execution_count": null,
   "metadata": {},
   "outputs": [],
   "source": [
    "items_db = get_itemsdb()"
   ]
  },
  {
   "cell_type": "code",
   "execution_count": null,
   "metadata": {},
   "outputs": [],
   "source": [
    "photos_db = get_photosdb()"
   ]
  },
  {
   "cell_type": "code",
   "execution_count": null,
   "metadata": {},
   "outputs": [],
   "source": [
    "import matplotlib.pyplot as plt\n",
    "%matplotlib inline"
   ]
  },
  {
   "cell_type": "code",
   "execution_count": null,
   "metadata": {},
   "outputs": [],
   "source": [
    "for i, file in enumerate(photos_db.find()):\n",
    "    if i % 100000 == 0:\n",
    "        raw_binary = file.read()\n",
    "        test = pickle.loads(raw_binary)\n",
    "        plt.imshow(test)\n",
    "        plt.show()"
   ]
  },
  {
   "cell_type": "code",
   "execution_count": null,
   "metadata": {},
   "outputs": [],
   "source": [
    "for i, item in enumerate(items_db.find()):\n",
    "    if i == 10:\n",
    "        break\n",
    "item"
   ]
  },
  {
   "cell_type": "code",
   "execution_count": null,
   "metadata": {},
   "outputs": [],
   "source": [
    "def fill(dtype):\n",
    "    if 'S' in dtype:\n",
    "        return ''\n",
    "    if 'int' in dtype:\n",
    "        return '99999999999999999999999'\n",
    "    if 'float' in dtype:\n",
    "        return 'nan'"
   ]
  },
  {
   "cell_type": "code",
   "execution_count": null,
   "metadata": {},
   "outputs": [],
   "source": [
    "def get_features(item_keys, dtypes, item, photos_db, size=512):\n",
    "    all_items = []\n",
    "    dict_output = dict()\n",
    "    for key, dtype in zip(item_keys, dtypes):\n",
    "        if isinstance(item[key], str):\n",
    "            dict_output[key] = np.array([item[key].encode('latin')], dtype=dtype)[:, None]\n",
    "        elif isinstance(item[key], list):\n",
    "            list_str = [str(el) for el in item[key]]\n",
    "            dict_output[key] = np.array([','.join(list_str)], dtype=dtype)[:, None]\n",
    "        elif np.isnan(item[key]):\n",
    "            filling = fill(dtype)\n",
    "            dict_output[key] = np.array([filling.encode('latin')], dtype=dtype)[:, None]\n",
    "        else:\n",
    "            print(item)\n",
    "            print(key, item[key])\n",
    "    for key in item:\n",
    "        if 'gridfs'in key:\n",
    "            if item[key] != 404:\n",
    "                im_file = photos_db.find_one({'_id': item[key]})\n",
    "                im = pickle.loads(im_file.read())\n",
    "                if len(im.shape) == 2:\n",
    "                    im = to_rgb1a(im)\n",
    "                if im.shape[2] > 3:\n",
    "                    im = im[:, :, :3]\n",
    "                if size is not None:\n",
    "                    im = imresize(im, (size, size))\n",
    "                dict_output['image'] = im[None, ...]\n",
    "                dict_output['pose'] = np.array([key],  dtype='S40')[:, None]\n",
    "                all_items.append(deepcopy(dict_output))\n",
    "    return all_items"
   ]
  },
  {
   "cell_type": "code",
   "execution_count": null,
   "metadata": {},
   "outputs": [],
   "source": [
    "from scipy.misc import imresize"
   ]
  },
  {
   "cell_type": "code",
   "execution_count": null,
   "metadata": {},
   "outputs": [],
   "source": [
    "item_keys = ['productID', 'description', 'name', \n",
    "             'brand', 'category', \n",
    "             'composition', 'department', \n",
    "             'gender', 'msrpUSD', \n",
    "             'season', 'subcategory', 'concat_description', 'matchedProductID']\n",
    "dtypes = ['int32', 'S400', 'S100', \n",
    "          'S100', 'S100', \n",
    "          'S200', 'S100', \n",
    "          'S30', 'float32', \n",
    "          'S10', 'S100', 'S800', 'S100']"
   ]
  },
  {
   "cell_type": "code",
   "execution_count": null,
   "metadata": {},
   "outputs": [],
   "source": [
    "dict_test = get_features(item_keys, dtypes, item, photos_db)"
   ]
  },
  {
   "cell_type": "code",
   "execution_count": null,
   "metadata": {},
   "outputs": [],
   "source": [
    "dict_test"
   ]
  },
  {
   "cell_type": "code",
   "execution_count": null,
   "metadata": {},
   "outputs": [],
   "source": [
    "def dump_object(item):\n",
    "    item, directory = item\n",
    "    file_name = '_'.join([str(item['productID'][0][0]), str(item['pose'][0][0]).replace(\"'\", \"\")])\n",
    "    file_name = os.path.join(directory, file_name)\n",
    "    if not os.path.exists(file_name + '.png'):\n",
    "        imageio.imwrite(file_name + '.png', item['image'][0])\n",
    "    new_dict = dict()\n",
    "    for k, v in item.items():\n",
    "        v_el = v[0][0]\n",
    "        if k != 'image':\n",
    "            new_dict[k] = str(v_el)\n",
    "    file_name = str(item['productID'][0][0])\n",
    "    file_name = os.path.join(directory, file_name)\n",
    "    if not os.path.exists(file_name + '.json'):\n",
    "        with open(file_name + '.json', 'w') as f:\n",
    "            json.dump(new_dict, f)\n",
    "    return 1"
   ]
  },
  {
   "cell_type": "code",
   "execution_count": null,
   "metadata": {},
   "outputs": [],
   "source": [
    "from multiprocessing import Pool\n",
    "\n",
    "def build_image_dump(photos, items_db, directory='/data/images_png_dump',\n",
    "             from_point=0, max_items=100, size=1024, nb_processes=10):\n",
    "    \n",
    "    nb_inserted = 0\n",
    "    pool = Pool(nb_processes)\n",
    "    items_buffer = []\n",
    "    for i, el in tqdm(enumerate(items_db.find(no_cursor_timeout=True)), total=items_db.count()):\n",
    "        if i >= from_point and i <= max_items:\n",
    "            try:\n",
    "                items = get_features(item_keys,\n",
    "                                     dtypes,\n",
    "                                     el, photos, \n",
    "                                     size=size)\n",
    "            except Exception as e:\n",
    "                print(el)\n",
    "                print(e)\n",
    "            if len(items) > 0:\n",
    "                for item in items:\n",
    "                    items_buffer.append((item, directory))\n",
    "            if len(items_buffer) >= nb_processes * 2:\n",
    "                inserted = pool.map(dump_object, items_buffer)\n",
    "                nb_inserted += np.sum(inserted)\n",
    "                items_buffer = []\n",
    "            if i % 1000 == 0:\n",
    "                for item in items:\n",
    "                    print(item['name'])\n",
    "                    plt.imshow(item['image'][0])\n",
    "                    plt.show()\n",
    "    return nb_inserted"
   ]
  },
  {
   "cell_type": "code",
   "execution_count": null,
   "metadata": {},
   "outputs": [],
   "source": [
    "build_image_dump(photos_db, items_db, max_items=10000000, nb_processes=10)"
   ]
  }
 ],
 "metadata": {
  "kernelspec": {
   "display_name": "Python 3",
   "language": "python",
   "name": "python3"
  },
  "language_info": {
   "codemirror_mode": {
    "name": "ipython",
    "version": 3
   },
   "file_extension": ".py",
   "mimetype": "text/x-python",
   "name": "python",
   "nbconvert_exporter": "python",
   "pygments_lexer": "ipython3",
   "version": "3.6.5"
  }
 },
 "nbformat": 4,
 "nbformat_minor": 2
}
